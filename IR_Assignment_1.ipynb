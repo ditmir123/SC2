{
  "nbformat": 4,
  "nbformat_minor": 0,
  "metadata": {
    "colab": {
      "provenance": []
    },
    "kernelspec": {
      "name": "python3",
      "display_name": "Python 3"
    },
    "language_info": {
      "name": "python"
    }
  },
  "cells": [
    {
      "cell_type": "code",
      "execution_count": 1,
      "metadata": {
        "id": "rWqYKBPpW1S3"
      },
      "outputs": [],
      "source": [
        "import nltk\n",
        "from nltk.corpus import stopwords\n",
        "from nltk.tokenize import word_tokenize\n",
        "from nltk.stem import PorterStemmer, WordNetLemmatizer"
      ]
    },
    {
      "cell_type": "code",
      "source": [
        "nltk.download('stopwords')\n",
        "nltk.download('punkt')\n",
        "nltk.download('wordnet')"
      ],
      "metadata": {
        "colab": {
          "base_uri": "https://localhost:8080/",
          "height": 0
        },
        "id": "cnO1fMwIXgMu",
        "outputId": "dc73036e-7985-4249-e36b-349fc20b2e62"
      },
      "execution_count": 15,
      "outputs": [
        {
          "output_type": "stream",
          "name": "stderr",
          "text": [
            "[nltk_data] Downloading package stopwords to /root/nltk_data...\n",
            "[nltk_data]   Package stopwords is already up-to-date!\n",
            "[nltk_data] Downloading package punkt to /root/nltk_data...\n",
            "[nltk_data]   Package punkt is already up-to-date!\n",
            "[nltk_data] Downloading package wordnet to /root/nltk_data...\n"
          ]
        },
        {
          "output_type": "execute_result",
          "data": {
            "text/plain": [
              "True"
            ]
          },
          "metadata": {},
          "execution_count": 15
        }
      ]
    },
    {
      "cell_type": "code",
      "source": [
        "text_document = 'Text Preprocessing is an essential step in Natural Language Processing. It includes tasks like stopword removal and stemming.'"
      ],
      "metadata": {
        "id": "LNX27OdbXp-h"
      },
      "execution_count": 3,
      "outputs": []
    },
    {
      "cell_type": "code",
      "source": [
        "words = word_tokenize(text_document)\n",
        "words"
      ],
      "metadata": {
        "colab": {
          "base_uri": "https://localhost:8080/",
          "height": 0
        },
        "id": "4I-xmBh1YDGX",
        "outputId": "e2fa6bb6-a15d-4ae7-9c32-60e1037bbcf8"
      },
      "execution_count": 5,
      "outputs": [
        {
          "output_type": "execute_result",
          "data": {
            "text/plain": [
              "['Text',\n",
              " 'Preprocessing',\n",
              " 'is',\n",
              " 'an',\n",
              " 'essential',\n",
              " 'step',\n",
              " 'in',\n",
              " 'Natural',\n",
              " 'Language',\n",
              " 'Processing',\n",
              " '.',\n",
              " 'It',\n",
              " 'includes',\n",
              " 'tasks',\n",
              " 'like',\n",
              " 'stopword',\n",
              " 'removal',\n",
              " 'and',\n",
              " 'stemming',\n",
              " '.']"
            ]
          },
          "metadata": {},
          "execution_count": 5
        }
      ]
    },
    {
      "cell_type": "code",
      "source": [
        "stop_word = set(stopwords.words('english'))\n",
        "filtered_words = [word for word in words if word.lower() not in stop_word]\n",
        "filtered_words"
      ],
      "metadata": {
        "colab": {
          "base_uri": "https://localhost:8080/",
          "height": 0
        },
        "id": "fUIpEfv3YPqi",
        "outputId": "08565381-917b-4c14-d020-bb7ffcb904b4"
      },
      "execution_count": 8,
      "outputs": [
        {
          "output_type": "execute_result",
          "data": {
            "text/plain": [
              "['Text',\n",
              " 'Preprocessing',\n",
              " 'essential',\n",
              " 'step',\n",
              " 'Natural',\n",
              " 'Language',\n",
              " 'Processing',\n",
              " '.',\n",
              " 'includes',\n",
              " 'tasks',\n",
              " 'like',\n",
              " 'stopword',\n",
              " 'removal',\n",
              " 'stemming',\n",
              " '.']"
            ]
          },
          "metadata": {},
          "execution_count": 8
        }
      ]
    },
    {
      "cell_type": "code",
      "source": [
        "stemmer = PorterStemmer()"
      ],
      "metadata": {
        "id": "_pA-FRe9Y-jp"
      },
      "execution_count": 9,
      "outputs": []
    },
    {
      "cell_type": "code",
      "source": [
        "stemmed_words = [stemmer.stem(word) for word in filtered_words]\n",
        "stemmed_words"
      ],
      "metadata": {
        "colab": {
          "base_uri": "https://localhost:8080/",
          "height": 0
        },
        "id": "CzGiHhdabpmH",
        "outputId": "79cb582b-6505-4e4f-b774-e3eba2db8afe"
      },
      "execution_count": 11,
      "outputs": [
        {
          "output_type": "execute_result",
          "data": {
            "text/plain": [
              "['text',\n",
              " 'preprocess',\n",
              " 'essenti',\n",
              " 'step',\n",
              " 'natur',\n",
              " 'languag',\n",
              " 'process',\n",
              " '.',\n",
              " 'includ',\n",
              " 'task',\n",
              " 'like',\n",
              " 'stopword',\n",
              " 'remov',\n",
              " 'stem',\n",
              " '.']"
            ]
          },
          "metadata": {},
          "execution_count": 11
        }
      ]
    },
    {
      "cell_type": "code",
      "source": [
        "lemmatizer = WordNetLemmatizer()"
      ],
      "metadata": {
        "id": "aKqWifDib94n"
      },
      "execution_count": 12,
      "outputs": []
    },
    {
      "cell_type": "code",
      "source": [
        "lemmatized_words = [lemmatizer.lemmatize(word) for word in filtered_words]\n",
        "lemmatized_words"
      ],
      "metadata": {
        "colab": {
          "base_uri": "https://localhost:8080/",
          "height": 0
        },
        "id": "yu4cSm7IcPWO",
        "outputId": "eb5356f1-50d3-40e8-940d-d7635dc99668"
      },
      "execution_count": 16,
      "outputs": [
        {
          "output_type": "execute_result",
          "data": {
            "text/plain": [
              "['Text',\n",
              " 'Preprocessing',\n",
              " 'essential',\n",
              " 'step',\n",
              " 'Natural',\n",
              " 'Language',\n",
              " 'Processing',\n",
              " '.',\n",
              " 'includes',\n",
              " 'task',\n",
              " 'like',\n",
              " 'stopword',\n",
              " 'removal',\n",
              " 'stemming',\n",
              " '.']"
            ]
          },
          "metadata": {},
          "execution_count": 16
        }
      ]
    },
    {
      "cell_type": "code",
      "source": [],
      "metadata": {
        "id": "mPUu-DNjcZ4H"
      },
      "execution_count": null,
      "outputs": []
    }
  ]
}