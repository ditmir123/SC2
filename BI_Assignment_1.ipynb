{
  "nbformat": 4,
  "nbformat_minor": 0,
  "metadata": {
    "colab": {
      "provenance": []
    },
    "kernelspec": {
      "name": "python3",
      "display_name": "Python 3"
    },
    "language_info": {
      "name": "python"
    }
  },
  "cells": [
    {
      "cell_type": "code",
      "execution_count": 18,
      "metadata": {
        "colab": {
          "base_uri": "https://localhost:8080/",
          "height": 0
        },
        "id": "JhvH8a60YsOi",
        "outputId": "ed65b517-1e81-44fb-fd63-07c5b2311b6f"
      },
      "outputs": [
        {
          "output_type": "stream",
          "name": "stdout",
          "text": [
            "GC content: 49.77777777777778 %\n",
            "Motif ATG found at position: 0\n",
            "Coding regions:\n",
            "Start: 0 End: 27\n"
          ]
        }
      ],
      "source": [
        "with open('dna_sequence-BI.txt','r') as file:\n",
        "  dna_sequence = file.read().strip()\n",
        "\n",
        "gc_content = (dna_sequence.count('G') + dna_sequence.count('C'))/len(dna_sequence)*100\n",
        "print('GC content:',gc_content,'%')\n",
        "\n",
        "motif_to_find = 'ATG'\n",
        "motifs_found = [str(i) for i in range(len(dna_sequence)) if dna_sequence.startswith(motif_to_find,i)]\n",
        "print('Motif',motif_to_find,'found at position:',','.join(motifs_found) if motifs_found else 'Motif'+motif_to_find+'not found in sequence')\n",
        "\n",
        "start_codon = 'ATG'\n",
        "stop_codon = ['TAA','TAG','TGA']\n",
        "coding_region = []\n",
        "\n",
        "for i,codon in enumerate(dna_sequence):\n",
        "  if dna_sequence[i:i+3] == start_codon:\n",
        "    for j in range(i+3,len(dna_sequence),3):\n",
        "      codon = dna_sequence[j:j+3]\n",
        "      if codon in stop_codon:\n",
        "        coding_region.append((i,j+3))\n",
        "        break\n",
        "    else:\n",
        "      continue\n",
        "\n",
        "if coding_region:\n",
        "  print('Coding regions:')\n",
        "  for start,end in coding_region:\n",
        "    print('Start:',start,'End:',end)\n",
        "else:\n",
        "  print('No coding region found')"
      ]
    },
    {
      "cell_type": "code",
      "source": [],
      "metadata": {
        "id": "hGq1FDKpa3la"
      },
      "execution_count": null,
      "outputs": []
    }
  ]
}