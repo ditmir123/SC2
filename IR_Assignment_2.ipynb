{
  "nbformat": 4,
  "nbformat_minor": 0,
  "metadata": {
    "colab": {
      "provenance": []
    },
    "kernelspec": {
      "name": "python3",
      "display_name": "Python 3"
    },
    "language_info": {
      "name": "python"
    }
  },
  "cells": [
    {
      "cell_type": "code",
      "execution_count": 2,
      "metadata": {
        "id": "AJcefsq01xgx"
      },
      "outputs": [],
      "source": [
        "import re\n",
        "from collections import defaultdict"
      ]
    },
    {
      "cell_type": "code",
      "source": [
        "document = {1:'This is the fisrt document. It contains some text.',\n",
        "            2: 'The second document is longer. It also contains some text.',\n",
        "            3:'This is the third document. It is different from the first two'}"
      ],
      "metadata": {
        "id": "RZd2_Qzq11_U"
      },
      "execution_count": 3,
      "outputs": []
    },
    {
      "cell_type": "code",
      "source": [
        "def preprocess_doc(doc):\n",
        "  tokens = re.findall(r'\\w+', doc.lower())\n",
        "  stopwords = set(['the','is','it','and','some'])\n",
        "  tokens = [token for token in tokens if token not in stopwords]\n",
        "  return tokens"
      ],
      "metadata": {
        "id": "dprZvYP_2fC6"
      },
      "execution_count": 9,
      "outputs": []
    },
    {
      "cell_type": "code",
      "source": [
        "inverted_index = defaultdict(list)\n",
        "\n",
        "for doc_id, doc_text in document.items():\n",
        "  tokens = preprocess_doc(doc_text)\n",
        "  for token in tokens:\n",
        "    inverted_index[token].append(doc_id)"
      ],
      "metadata": {
        "id": "S9X5jRHK3SYc"
      },
      "execution_count": 12,
      "outputs": []
    },
    {
      "cell_type": "code",
      "source": [
        "def retrieve_doc(query):\n",
        "  query_tokens = preprocess_doc(query)\n",
        "  result = set()\n",
        "  for token in query_tokens:\n",
        "    if token in inverted_index:\n",
        "      result.update(inverted_index[token])\n",
        "  return list(result)"
      ],
      "metadata": {
        "id": "HJMX1Twl6DLy"
      },
      "execution_count": 14,
      "outputs": []
    },
    {
      "cell_type": "code",
      "source": [
        "query = 'document contains text'\n",
        "matching_doc = retrieve_doc(query)"
      ],
      "metadata": {
        "id": "-ORumQ9a665c"
      },
      "execution_count": 15,
      "outputs": []
    },
    {
      "cell_type": "code",
      "source": [
        "if matching_doc:\n",
        "  print('Matching document for query:',query)\n",
        "  for doc_id in matching_doc:\n",
        "    print('Document',doc_id,':',document[doc_id])\n",
        "else:\n",
        "    print('No matching documents found')\n"
      ],
      "metadata": {
        "colab": {
          "base_uri": "https://localhost:8080/",
          "height": 0
        },
        "id": "u7n-vgWA7NhY",
        "outputId": "ba5987d8-5515-4278-8a49-1f932dfed4db"
      },
      "execution_count": 17,
      "outputs": [
        {
          "output_type": "stream",
          "name": "stdout",
          "text": [
            "Matching document for query: document contains text\n",
            "Document 1 : This is the fisrt document. It contains some text.\n",
            "Document 2 : The second document is longer. It also contains some text.\n",
            "Document 3 : This is the third document. It is different from the first two\n"
          ]
        }
      ]
    },
    {
      "cell_type": "code",
      "source": [],
      "metadata": {
        "id": "MCKhnoqW8v_w"
      },
      "execution_count": null,
      "outputs": []
    }
  ]
}